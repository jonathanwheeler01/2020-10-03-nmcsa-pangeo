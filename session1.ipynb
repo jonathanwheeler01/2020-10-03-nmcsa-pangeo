{
 "cells": [
  {
   "cell_type": "markdown",
   "metadata": {},
   "source": [
    "<h2 align=\"center\">NM Supercomputing Challenge 2020</h2>\n",
    "<h3 align=\"center\">Session #1 (Mark Servilla): Introduction to Git and GitHub, Jupyter Notebooks, Python, and Pandas</h3>"
   ]
  },
  {
   "cell_type": "markdown",
   "metadata": {},
   "source": [
    "---\n",
    "## Interacting with Git and GitHub\n",
    "\n",
    " 1. Fork the [2020-10-03-nmcsa-pangeo](https://github.com/nmcarpentries/2020-10-03-nmcsa-pangeo) repository to your GitHub account\n",
    " 1. Click on the **launch-binder** button near the top of the README.md file (see README.md instructions)\n",
    " 1. Once the *Pangeo Binder* is launched and you see the *JupyterLab* environment, click on the **terminal** button near the bottom of the *Launcher* tab\n",
    " 1. In the terminal window (Linxu Bash shell), we will configure this local Git instance for your profile and set it up to use your \"forked\" repository for saving changes from this Binder environment to your GitHub account:  \n",
    "   ```\n",
    "   git config user.email \"mark.servilla@gmail.com\"\n",
    "   git config user.name \"Mark Servilla\"\n",
    "   git remote set-url origin https://github.com/servilla/2020-10-03-nmcsa-pangeo\n",
    "   git remote -v\n",
    "     origin  https://github.com/servilla/2020-10-03-nmcsa-pangeo (fetch)\n",
    "     origin  https://github.com/servilla/2020-10-03-nmcsa-pangeo (push)\n",
    "   ```"
   ]
  },
  {
   "cell_type": "markdown",
   "metadata": {},
   "source": [
    " #### Come to this step at the end of each session\n",
    " 5. To save the work you have just done in this session, we'll use Git to *push* our changes back to your GitHub account:\n",
    "   ```\n",
    "   git add *\n",
    "   git commit -m \"Saving changes to GitHub\"\n",
    "   git push\n",
    "     Username for 'https://github.com': servilla\n",
    "     Password for 'https://servilla@github.com':\n",
    "     Counting objects: 4, done.\n",
    "     Delta compression using up to 6 threads.\n",
    "     Compressing objects: 100% (3/3), done.\n",
    "     Writing objects: 100% (4/4), 505 bytes | 505.00 KiB/s, done.\n",
    "     Total 4 (delta 2), reused 0 (delta 0)\n",
    "     remote: Resolving deltas: 100% (2/2), completed with 2 local objects.\n",
    "     To https://github.com/servilla/2020-10-03-nmcsa-pangeo\n",
    "        2963446..0e25a7d  master -> master\n",
    "   ```"
   ]
  },
  {
   "cell_type": "markdown",
   "metadata": {},
   "source": [
    "---\n",
    "## Working with Jupyter Notebooks\n",
    "\n",
    "\"Jupyter notebooks are documents that combine live runnable code with narrative text (Markdown), equations (LaTeX), images, interactive visualizations and other rich output. Jupyter notebooks (.ipynb files) are fully supported in JupyterLab. The notebook document format used in JupyterLab is the same as in the classic Jupyter Notebook. Your existing notebooks should open correctly in JupyterLab.\" - https://jupyterlab.readthedocs.io/en/stable/user/notebook.html\n",
    "\n",
    "Types of cells:\n",
    "  1. Raw cell - to display raw text\n",
    "  1. Code cell - to enter and execute code\n",
    "  1. Markdown cell - to enter and display markdown (like this cell)\n",
    "\n",
    "Common keyboard commands:\n",
    " - Esc - Enter command mode\n",
    " - Enter - Enter edit mode\n",
    " - Ctrl-Enter - Run cell\n",
    " - Alt-Enter - Run cell and insert new cell below\n",
    " - X - Delete cell\n",
    " - C - Copy Cell\n",
    " - A - Insert cell above\n",
    " - B - Insert cell below\n",
    "\n",
    "[Keyboard Shortcuts](https://blog.ja-ke.tech/assets/jupyterlab-shortcuts/Shortcuts2020.png)"
   ]
  },
  {
   "cell_type": "markdown",
   "metadata": {},
   "source": [
    "---\n",
    "## Python quickstart"
   ]
  },
  {
   "cell_type": "markdown",
   "metadata": {},
   "source": [
    "What is Python? Python, named after the British comedy troup \"Monty Python\", is an interpreted computer language developed by Guido van Rossum in 1991."
   ]
  },
  {
   "cell_type": "markdown",
   "metadata": {},
   "source": [
    "Built in data types:"
   ]
  },
  {
   "cell_type": "code",
   "execution_count": null,
   "metadata": {},
   "outputs": [],
   "source": []
  },
  {
   "cell_type": "markdown",
   "metadata": {},
   "source": [
    "Operators:"
   ]
  },
  {
   "cell_type": "markdown",
   "metadata": {},
   "source": []
  },
  {
   "cell_type": "markdown",
   "metadata": {},
   "source": [
    "Lists and Dictionaries:"
   ]
  },
  {
   "cell_type": "code",
   "execution_count": null,
   "metadata": {},
   "outputs": [],
   "source": []
  },
  {
   "cell_type": "markdown",
   "metadata": {},
   "source": [
    "Functions:"
   ]
  },
  {
   "cell_type": "code",
   "execution_count": null,
   "metadata": {},
   "outputs": [],
   "source": []
  },
  {
   "cell_type": "markdown",
   "metadata": {},
   "source": [
    "---\n",
    "## Introduction to Python Pandas"
   ]
  },
  {
   "cell_type": "markdown",
   "metadata": {},
   "source": [
    " - \"pandas is a Python package providing fast, flexible, and expressive data structures designed to make working with “relational” or “labeled” data both easy and intuitive. It aims to be the fundamental high-level building block for doing practical, real world data analysis in Python.\" - https://pandas.pydata.org/pandas-docs/stable/getting_started/overview.html\n",
    " - pandas was created by Wes McKinney in 2008 and the name *pandas* is derived from the term \"panel data\" used in the field of economics.\n",
    " - Think of pandas as a combination of spreadsheet, database, and statiscal software rolled into a single Python package."
   ]
  },
  {
   "cell_type": "markdown",
   "metadata": {},
   "source": [
    "You must `import` pandas to use pandas"
   ]
  },
  {
   "cell_type": "code",
   "execution_count": null,
   "metadata": {},
   "outputs": [],
   "source": []
  },
  {
   "cell_type": "markdown",
   "metadata": {},
   "source": [
    "### What is a pandas' DataFrame?\n",
    "\n",
    "\"A DataFrame is a 2-dimensional data structure that can store data of different types (including characters, integers, floating point values, factors and more) in columns. It is similar to a spreadsheet or an SQL table or the `data.frame` in R. A DataFrame always has an index (0-based). An index refers to the position of an element in the data structure.\" - https://datacarpentry.org/python-ecology-lesson/02-starting-with-data/index.html"
   ]
  },
  {
   "cell_type": "markdown",
   "metadata": {},
   "source": [
    "Reading the data file `./data/surveys.csv`:"
   ]
  },
  {
   "cell_type": "code",
   "execution_count": 4,
   "metadata": {},
   "outputs": [],
   "source": []
  },
  {
   "cell_type": "markdown",
   "metadata": {},
   "source": [
    "Viewing the contents of a the *surveys* DataFrame:"
   ]
  },
  {
   "cell_type": "code",
   "execution_count": null,
   "metadata": {},
   "outputs": [],
   "source": []
  },
  {
   "cell_type": "markdown",
   "metadata": {},
   "source": [
    "Exploring the structure of the *surveys* DataFrame:"
   ]
  },
  {
   "cell_type": "code",
   "execution_count": null,
   "metadata": {},
   "outputs": [],
   "source": []
  },
  {
   "cell_type": "markdown",
   "metadata": {},
   "source": [
    "Calculating statistics on the *surveys* DataFrame:"
   ]
  },
  {
   "cell_type": "code",
   "execution_count": null,
   "metadata": {},
   "outputs": [],
   "source": []
  },
  {
   "cell_type": "markdown",
   "metadata": {},
   "source": [
    "Exploring the contents of the *surveys* DataFrame:"
   ]
  },
  {
   "cell_type": "code",
   "execution_count": null,
   "metadata": {},
   "outputs": [],
   "source": []
  },
  {
   "cell_type": "markdown",
   "metadata": {},
   "source": [
    "Displaying a graph of data from the *surveys* DataFrame:"
   ]
  },
  {
   "cell_type": "code",
   "execution_count": null,
   "metadata": {},
   "outputs": [],
   "source": []
  }
 ],
 "metadata": {
  "kernelspec": {
   "display_name": "Python 3",
   "language": "python",
   "name": "python3"
  },
  "language_info": {
   "codemirror_mode": {
    "name": "ipython",
    "version": 3
   },
   "file_extension": ".py",
   "mimetype": "text/x-python",
   "name": "python",
   "nbconvert_exporter": "python",
   "pygments_lexer": "ipython3",
   "version": "3.8.5"
  }
 },
 "nbformat": 4,
 "nbformat_minor": 4
}
