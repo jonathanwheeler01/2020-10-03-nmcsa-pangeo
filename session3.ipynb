{
 "cells": [
  {
   "cell_type": "markdown",
   "metadata": {},
   "source": [
    "# NM Supercomputing Challenge 2020"
   ]
  },
  {
   "cell_type": "markdown",
   "metadata": {},
   "source": [
    "## Session #3 (Jon Wheeler): Data workflows, automation, and visualization with Pandas and Matplotlib\n",
    "\n",
    "This notebook is modified from the \"Data Workflows and Automation\" and \"Data Ingest and Visualization - Matplotlib and Pandas\" lessons in the Data Carpentry module, _Data Analysis and Visualization in Python for Ecologists_. The lessons are available at <http://www.datacarpentry.org/python-ecology-lesson/>, and are licensed with a Creative Commons Attribution (CC-BY-4.0) license: <https://creativecommons.org/licenses/by/4.0/>. The requested citation is:\n",
    "\n",
    "> John Gosset, April Wright (eds): \"Data Carpentry Python Ecology lesson.\"\n",
    "> Version 2017.04.0, April 2017,\n",
    "> <http://www.datacarpentry.org/python-ecology-lesson/>\n",
    "\n",
    "Before we begin, let's go ahead and re-import the libraries we're using for this workshop:"
   ]
  },
  {
   "cell_type": "code",
   "execution_count": 50,
   "metadata": {},
   "outputs": [],
   "source": [
    "# We will keep this commented out for now, but if needed it is possible to install packages from within a Jupyter notebook.\n",
    "# The syntax is:\n",
    "#     pip install <package>\n",
    "\n",
    "#!pip install pandas"
   ]
  },
  {
   "cell_type": "code",
   "execution_count": 51,
   "metadata": {},
   "outputs": [],
   "source": [
    "import pandas as pd     # 'pd' is an alias that lets us reference pandas functions and methods without having to type out 'pandas' every time\n",
    "import os"
   ]
  },
  {
   "cell_type": "markdown",
   "metadata": {},
   "source": [
    "## Workflows & automation\n",
    "\n",
    "Recap: What are some of the benefits of using Python? Everyone is encouraged to jot down some reflections or thoughts in this space. (Double click this code block to edit and add text.)\n",
    "\n",
    "> .\n",
    "> .\n",
    "> .\n",
    "\n",
    "Loops and functions allows us to build efficiencies into our analyses by repeating actions and re-using bits of code. This also helps to reduce the likelihood of mistakes and errors we might make when we perform repetitive tasks manually.\n",
    "\n",
    "## Loops"
   ]
  },
  {
   "cell_type": "code",
   "execution_count": 52,
   "metadata": {},
   "outputs": [
    {
     "name": "stdout",
     "output_type": "stream",
     "text": [
      "['lion', 'tiger', 'crocodile', 'vulture', 'hippo']\n"
     ]
    }
   ],
   "source": [
    "# For loops\n",
    "\n",
    "# Syntax\n",
    "# for item in collection:\n",
    "#    do something\n",
    "\n",
    "# The \"collection\" we iterate through can be any one of a number of data structures or object, but we often use for loops to iterate\n",
    "# over lists. Let's start with that:\n",
    "\n",
    "animals = ['lion', 'tiger', 'crocodile', 'vulture', 'hippo']\n",
    "\n",
    "# Print the list to screen:\n",
    "print(animals)"
   ]
  },
  {
   "cell_type": "code",
   "execution_count": 53,
   "metadata": {},
   "outputs": [
    {
     "name": "stdout",
     "output_type": "stream",
     "text": [
      "lion\n",
      "tiger\n",
      "crocodile\n",
      "vulture\n",
      "hippo\n"
     ]
    }
   ],
   "source": [
    "# Referring to the syntax above, \"the collection\" is the list we have assigned to the variable \"animals.\"\n",
    "# The items in the list are the individual animals we have named - lion, tiger, etc.\n",
    "\n",
    "# The following loop will print out the name of each animal. How does the output differ from the 'print(animals)' command above'?\n",
    "# The loop variable is \"animal\" - we can call the loop variable almost anything, but we recommend using a term consistent with the collection.\n",
    "for animal in animals:\n",
    "    print(animal)"
   ]
  },
  {
   "cell_type": "code",
   "execution_count": 54,
   "metadata": {},
   "outputs": [
    {
     "name": "stdout",
     "output_type": "stream",
     "text": [
      "hippo\n"
     ]
    }
   ],
   "source": [
    "# Note that the loop variable still exists after the for loop has completed, and has the value of the last item in the collection:\n",
    "\n",
    "print(animal)"
   ]
  },
  {
   "cell_type": "markdown",
   "metadata": {},
   "source": [
    "# Exercise:\n",
    "\n",
    "Run the next two code blocks, then answer the questions below:\n",
    "\n",
    "1. What happens if we don’t include the `pass` statement?\n",
    "2. Rewrite the loop so that the animals are separated by commas, not new lines (Hint: You can concatenate strings using a plus sign. For example, print(string1 + string2) outputs ‘string1string2’).\n"
   ]
  },
  {
   "cell_type": "code",
   "execution_count": 55,
   "metadata": {},
   "outputs": [],
   "source": [
    "for creature in animals:\n",
    "    pass"
   ]
  },
  {
   "cell_type": "code",
   "execution_count": 56,
   "metadata": {},
   "outputs": [
    {
     "name": "stdout",
     "output_type": "stream",
     "text": [
      "The loop variable is now: hippo\n"
     ]
    }
   ],
   "source": [
    "print('The loop variable is now: ' + creature)"
   ]
  },
  {
   "cell_type": "markdown",
   "metadata": {},
   "source": [
    "## Functions\n",
    "\n",
    "Loops are handy, but they will only be executed from wherever they are in the code. Using the example above, if we are developing a script in which the list of animals is continually being modified, we might find ourselves adding a new for loop every time we want to print the animal names or do something else. Imagine for example a process like this:\n",
    "\n",
    "```\n",
    "# A list of family pets:\n",
    "pets = ['dog', 'cat', 'lizard']\n",
    "\n",
    "# Let's print the list for reference:\n",
    "for pet in pets:\n",
    "    print(pet)\n",
    "\n",
    "# Hooray, we got a parakeet!\n",
    "pets.append('parakeet')\n",
    "\n",
    "# Oh no, the cat ran away!\n",
    "pets.remove('cat')\n",
    "\n",
    "# Now we need to re-print the updated list...\n",
    "for pet in pets:\n",
    "    print(pet)\n",
    "```\n",
    "\n",
    "This is an artificial example, but demonstrates that we often need to update lists or other objects and repeat certain actions on one or several objects. Functions allow us to create re-usable bits of code that can be called as needed from any point in a script. "
   ]
  },
  {
   "cell_type": "markdown",
   "metadata": {},
   "source": [
    "The syntax for a function is:\n",
    "\n",
    "```\n",
    "def funtion_name(input_argument_1, input_argument_2):\n",
    "    \n",
    "    # Do things. The next line is an example.\n",
    "    combined_args = str(input_argument_1) + \" \" + str(input_argument_2) \n",
    "    \n",
    "    # Return a result\n",
    "    return combined_args\n",
    "```"
   ]
  },
  {
   "cell_type": "code",
   "execution_count": 57,
   "metadata": {},
   "outputs": [],
   "source": [
    "# This is the example function provided in the Carpentries lesson.\n",
    "# Note that we have to execute this code block before we can call the function.\n",
    "\n",
    "def this_is_the_function_name(input_argument1, input_argument2):\n",
    "\n",
    "    # The body of the function is indented\n",
    "    # This function prints the two arguments to screen\n",
    "    print('The function arguments are:', input_argument1, input_argument2, '(this is done inside the function!)')\n",
    "\n",
    "    # And returns their product\n",
    "    return input_argument1 * input_argument2"
   ]
  },
  {
   "cell_type": "code",
   "execution_count": 58,
   "metadata": {},
   "outputs": [
    {
     "name": "stdout",
     "output_type": "stream",
     "text": [
      "The function arguments are: 2 5 (this is done inside the function!)\n"
     ]
    }
   ],
   "source": [
    "product_of_inputs = this_is_the_function_name(2, 5)"
   ]
  },
  {
   "cell_type": "code",
   "execution_count": 59,
   "metadata": {},
   "outputs": [
    {
     "name": "stdout",
     "output_type": "stream",
     "text": [
      "Their product is: 10 (this is done outside the function!)\n"
     ]
    }
   ],
   "source": [
    "print('Their product is:', product_of_inputs, '(this is done outside the function!)')"
   ]
  },
  {
   "cell_type": "code",
   "execution_count": 60,
   "metadata": {},
   "outputs": [
    {
     "name": "stdout",
     "output_type": "stream",
     "text": [
      "The function arguments are: 98 1876 (this is done inside the function!)\n"
     ]
    }
   ],
   "source": [
    "# We can re-use the function as needed.\n",
    "\n",
    "new_product = this_is_the_function_name(98, 1876)"
   ]
  },
  {
   "cell_type": "code",
   "execution_count": 61,
   "metadata": {},
   "outputs": [
    {
     "name": "stdout",
     "output_type": "stream",
     "text": [
      "Their product is: 183848 (this is done outside the function!)\n"
     ]
    }
   ],
   "source": [
    "print('Their product is:', new_product, '(this is done outside the function!)')"
   ]
  },
  {
   "cell_type": "code",
   "execution_count": 62,
   "metadata": {},
   "outputs": [],
   "source": [
    "# Combining loops and functions allows us to get a lot work done with just a few lines of code.\n",
    "# For example, we can create a short function to return the square of a number:\n",
    "\n",
    "def calculate_square(number):\n",
    "    return number * number"
   ]
  },
  {
   "cell_type": "code",
   "execution_count": 63,
   "metadata": {},
   "outputs": [
    {
     "name": "stdout",
     "output_type": "stream",
     "text": [
      "The square of 1 is 1\n",
      "The square of 3 is 9\n",
      "The square of 5 is 25\n",
      "The square of 7 is 49\n",
      "The square of 9 is 81\n",
      "The square of 11 is 121\n",
      "The square of 13 is 169\n",
      "The square of 15 is 225\n",
      "The square of 17 is 289\n",
      "The square of 19 is 361\n"
     ]
    }
   ],
   "source": [
    "# Now we can call the function as part of a loop:\n",
    "\n",
    "for n in range(1, 21, 2):\n",
    "    n_squared = calculate_square(n)\n",
    "    print(\"The square of\", n, \"is\", n_squared)"
   ]
  },
  {
   "cell_type": "markdown",
   "metadata": {},
   "source": [
    "## Exercise\n",
    "\n",
    "1. Change the values of the arguments in either of the functions above and check the output.\n",
    "2. Try calling one of the functions by giving it the wrong number of argument or not assigning the function call to a variable (no product_of_inputs =)\n",
    "3. Declare a variable inside the function and test to see where it exists (Hint: can you print it from outside the function?)\n",
    "4. Explore what happens when a variable both inside and outside the function have the same name. What happens to the global variable when you change the value of the local variable?\n"
   ]
  },
  {
   "cell_type": "markdown",
   "metadata": {},
   "source": [
    "## Conditionals\n",
    "\n",
    "Another way we can control the flow of execution within our programs is to create statements that allow us to execute different commands depending on conditions that we set. Conditional statements are also known as \"if\" statements."
   ]
  },
  {
   "cell_type": "code",
   "execution_count": 64,
   "metadata": {},
   "outputs": [
    {
     "name": "stdout",
     "output_type": "stream",
     "text": [
      "a is a positive number\n"
     ]
    }
   ],
   "source": [
    "a = 5\n",
    "\n",
    "if a < 0:\n",
    "    print(\"a is a negative number\")\n",
    "\n",
    "elif a > 0:                           # Think of \"elif\" as \"else if.\" You can use as many elif statements as needed to test multiple conditions. \n",
    "    print(\"a is a positive number\")\n",
    "    \n",
    "else:                                 # Use \"else\" for any cases that don't satisfy any other conditions.\n",
    "    print(\"a must be zero!\") "
   ]
  },
  {
   "cell_type": "code",
   "execution_count": 65,
   "metadata": {},
   "outputs": [
    {
     "name": "stdout",
     "output_type": "stream",
     "text": [
      "-10 is a negative number\n",
      "-9 is a negative number\n",
      "-8 is a negative number\n",
      "-7 is a negative number\n",
      "-6 is a negative number\n",
      "-5 is a negative number\n",
      "-4 is a negative number\n",
      "-3 is a negative number\n",
      "-2 is a negative number\n",
      "-1 is a negative number\n",
      "0 must equal zero!\n",
      "1 is greater than zero but less than 5.\n",
      "2 is greater than zero but less than 5.\n",
      "3 is greater than zero but less than 5.\n",
      "4 is greater than zero but less than 5.\n",
      "5 is equal to 5.\n",
      "6 is greater than 5 but less than 10.\n",
      "7 is greater than 5 but less than 10.\n",
      "8 is greater than 5 but less than 10.\n",
      "9 is greater than 5 but less than 10.\n",
      "10 is equal to 10.\n"
     ]
    }
   ],
   "source": [
    "# If statements can be used in for loops:\n",
    "\n",
    "for n in range(-10, 11):\n",
    "    if n < 0:\n",
    "        print(n, \"is a negative number\")\n",
    "    elif n > 0 and n < 5:\n",
    "        print(n, \"is greater than zero but less than 5.\")\n",
    "    elif n == 5:\n",
    "        print(n, \"is equal to 5.\")\n",
    "    elif n > 5 and n < 10:\n",
    "        print(n, \"is greater than 5 but less than 10.\")\n",
    "    elif n == 10:\n",
    "        print(n, \"is equal to 10.\")\n",
    "    elif n > 10:\n",
    "        print(n, \"is greater than 10.\")\n",
    "    else:\n",
    "        print(n, \"must equal zero!\")"
   ]
  },
  {
   "cell_type": "code",
   "execution_count": 66,
   "metadata": {},
   "outputs": [],
   "source": [
    "# If statements can also be used in functions:\n",
    "\n",
    "def compare(numeric_argument_1, numeric_argument_2):\n",
    "    if numeric_argument_1 > numeric_argument_2:\n",
    "        print(numeric_argument_1, \"is greater than\", \"numeric_argument_2\")\n",
    "    elif numeric_argument_1 < numeric_argument_2:\n",
    "        print(numeric_argument_1, \"is less than\", numeric_argument_2)\n",
    "    else:\n",
    "        print(numeric_argument_1, \"is equal to\", numeric_argument_2)"
   ]
  },
  {
   "cell_type": "code",
   "execution_count": 67,
   "metadata": {},
   "outputs": [
    {
     "name": "stdout",
     "output_type": "stream",
     "text": [
      "2 is less than 987\n"
     ]
    }
   ],
   "source": [
    "compare(2, 987)"
   ]
  },
  {
   "cell_type": "code",
   "execution_count": 69,
   "metadata": {},
   "outputs": [
    {
     "name": "stdout",
     "output_type": "stream",
     "text": [
      "192.6490702208771 is less than 249.28199999999998\n"
     ]
    }
   ],
   "source": [
    "# Note that our function works with mathematical operations.\n",
    "\n",
    "compare(1324/6.8726, 1.259 * 198)"
   ]
  },
  {
   "cell_type": "code",
   "execution_count": null,
   "metadata": {},
   "outputs": [],
   "source": []
  }
 ],
 "metadata": {
  "kernelspec": {
   "display_name": "Python 3",
   "language": "python",
   "name": "python3"
  },
  "language_info": {
   "codemirror_mode": {
    "name": "ipython",
    "version": 3
   },
   "file_extension": ".py",
   "mimetype": "text/x-python",
   "name": "python",
   "nbconvert_exporter": "python",
   "pygments_lexer": "ipython3",
   "version": "3.7.6"
  }
 },
 "nbformat": 4,
 "nbformat_minor": 4
}
